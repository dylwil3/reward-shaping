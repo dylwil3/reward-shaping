{
 "cells": [
  {
   "cell_type": "code",
   "execution_count": 1,
   "metadata": {},
   "outputs": [
    {
     "name": "stdout",
     "output_type": "stream",
     "text": [
      "pygame 2.4.0 (SDL 2.26.4, Python 3.9.2)\n",
      "Hello from the pygame community. https://www.pygame.org/contribute.html\n"
     ]
    },
    {
     "name": "stderr",
     "output_type": "stream",
     "text": [
      "100%|██████████| 2/2 [00:16<00:00,  8.13s/it]\n"
     ]
    },
    {
     "data": {
      "text/plain": [
       "(<Figure size 640x480 with 1 Axes>, <Axes: >)"
      ]
     },
     "execution_count": 1,
     "metadata": {},
     "output_type": "execute_result"
    },
    {
     "data": {
      "image/png": "[encoded data removed]",
      "text/plain": [
       "<Figure size 640x480 with 1 Axes>"
      ]
     },
     "metadata": {},
     "output_type": "display_data"
    }
   ],
   "source": [
    "\n",
    "\n",
    "# Training a Q learner initialized on a potential.\n",
    "import gymnasium as gym\n",
    "import reward_shaping as rs\n",
    "import numpy as np\n",
    "from collections import defaultdict\n",
    "\n",
    "big_lake_params = {\n",
    "    \"env_id\": \"FrozenLake-v1\",\n",
    "    \"env_options\": {\n",
    "        \"desc\": None,\n",
    "        \"is_slippery\": False,\n",
    "        \"map_name\": \"8x8\",\n",
    "    },\n",
    "}\n",
    "\n",
    "big_q_learner_params = {\n",
    "    \"lr\": 0.7,\n",
    "    \"eps_init\": 1,\n",
    "    \"eps_final\": 0.1,\n",
    "    \"eps_decay\": 0.0005,\n",
    "    \"discount\": 0.95,\n",
    "    \"action_space\": gym.spaces.Discrete(4),\n",
    "}\n",
    "\n",
    "LARGE_MAP_SIZE = 8\n",
    "LARGE_EPISODES = 2000\n",
    "RUNS = 2\n",
    "\n",
    "def frozen_potential_function(map_size: int, discount: float) -> callable:\n",
    "    def thunk(s):\n",
    "        distance_to_goal = abs(s // map_size - (map_size - 1)) + abs(\n",
    "            (s % map_size) - (map_size - 1)\n",
    "        )\n",
    "        return discount**distance_to_goal\n",
    "\n",
    "    return thunk\n",
    "\n",
    "\n",
    "# Setup experiment\n",
    "exp = rs.Experiment(\n",
    "    \"ExampleLargeLakeQInitTEST\", **big_lake_params, q_learner_params=big_q_learner_params\n",
    ")\n",
    "\n",
    "# Create initial qtable based on potential\n",
    "qtable_init = defaultdict(lambda: np.ones(4))\n",
    "frozen_potential_big = frozen_potential_function(\n",
    "    LARGE_MAP_SIZE, big_q_learner_params[\"discount\"] / 2\n",
    ")\n",
    "for s in range(LARGE_MAP_SIZE**2):\n",
    "    qtable_init[s] = qtable_init[s] * frozen_potential_big(s)\n",
    "\n",
    "# Initialize qtable for experiment\n",
    "exp.set_initial_qtable(qtable_init)\n",
    "\n",
    "# Run experiment and plot evaluations\n",
    "exp.run(runs=RUNS, episodes_per_run=LARGE_EPISODES)\n",
    "exp.plot_evals()"
   ]
  }
 ],
 "metadata": {
  "kernelspec": {
   "display_name": ".venv",
   "language": "python",
   "name": "python3"
  },
  "language_info": {
   "codemirror_mode": {
    "name": "ipython",
    "version": 3
   },
   "file_extension": ".py",
   "mimetype": "text/x-python",
   "name": "python",
   "nbconvert_exporter": "python",
   "pygments_lexer": "ipython3",
   "version": "3.9.2"
  },
  "orig_nbformat": 4
 },
 "nbformat": 4,
 "nbformat_minor": 2
}
